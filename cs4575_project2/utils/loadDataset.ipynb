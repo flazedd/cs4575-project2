{
 "cells": [
  {
   "cell_type": "code",
   "execution_count": 1,
   "metadata": {},
   "outputs": [
    {
     "name": "stderr",
     "output_type": "stream",
     "text": [
      "/Users/razvanloghin/Library/Caches/pypoetry/virtualenvs/cs4575-project2-3p4e5dnl-py3.11/lib/python3.11/site-packages/tqdm/auto.py:21: TqdmWarning: IProgress not found. Please update jupyter and ipywidgets. See https://ipywidgets.readthedocs.io/en/stable/user_install.html\n",
      "  from .autonotebook import tqdm as notebook_tqdm\n"
     ]
    }
   ],
   "source": [
    "# Import necessary libraries\n",
    "from datasets import load_dataset\n",
    "import pandas as pd\n",
    "import os"
   ]
  },
  {
   "cell_type": "code",
   "execution_count": 3,
   "metadata": {},
   "outputs": [
    {
     "name": "stdout",
     "output_type": "stream",
     "text": [
      "Dataset saved to: ./../datasets/SWE-bench_Lite.csv\n"
     ]
    }
   ],
   "source": [
    "# Create the output directory if it doesn't exist\n",
    "output_dir = \"./../datasets\"\n",
    "\n",
    "# Load the SWE-bench Lite dataset\n",
    "ds = load_dataset(\"princeton-nlp/SWE-bench_Lite\")\n",
    "\n",
    "# Convert the dataset to a Pandas DataFrame\n",
    "# Assuming the dataset only has one split (e.g., \"train\")\n",
    "df = ds[\"test\"].to_pandas()\n",
    "\n",
    "# Save the DataFrame as a CSV file in the specified directory\n",
    "csv_path = os.path.join(output_dir, \"SWE-bench_Lite.csv\")\n",
    "df.to_csv(csv_path, index=False)\n",
    "print(\"Dataset saved to:\", csv_path)"
   ]
  },
  {
   "cell_type": "code",
   "execution_count": null,
   "metadata": {},
   "outputs": [],
   "source": []
  }
 ],
 "metadata": {
  "kernelspec": {
   "display_name": "Python (SEE-project2)",
   "language": "python",
   "name": "cs4575-project2"
  },
  "language_info": {
   "codemirror_mode": {
    "name": "ipython",
    "version": 3
   },
   "file_extension": ".py",
   "mimetype": "text/x-python",
   "name": "python",
   "nbconvert_exporter": "python",
   "pygments_lexer": "ipython3",
   "version": "3.11.8"
  }
 },
 "nbformat": 4,
 "nbformat_minor": 2
}
